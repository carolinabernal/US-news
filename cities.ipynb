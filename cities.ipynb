{
 "cells": [
  {
   "cell_type": "code",
   "execution_count": 21,
   "metadata": {
    "collapsed": false
   },
   "outputs": [],
   "source": [
    "%matplotlib inline\n",
    "import geopandas as gpd\n",
    "import requests, pandas as pd\n",
    "from shapely.geometry import Point"
   ]
  },
  {
   "cell_type": "code",
   "execution_count": 22,
   "metadata": {
    "collapsed": false
   },
   "outputs": [
    {
     "data": {
      "text/html": [
       "<div>\n",
       "<table border=\"1\" class=\"dataframe\">\n",
       "  <thead>\n",
       "    <tr style=\"text-align: right;\">\n",
       "      <th></th>\n",
       "      <th>AFFGEOID</th>\n",
       "      <th>ALAND</th>\n",
       "      <th>AWATER</th>\n",
       "      <th>GEOID</th>\n",
       "      <th>LSAD</th>\n",
       "      <th>NAME</th>\n",
       "      <th>STATEFP</th>\n",
       "      <th>STATENS</th>\n",
       "      <th>STUSPS</th>\n",
       "      <th>geometry</th>\n",
       "    </tr>\n",
       "  </thead>\n",
       "  <tbody>\n",
       "    <tr>\n",
       "      <th>0</th>\n",
       "      <td>0400000US48</td>\n",
       "      <td>676634395761</td>\n",
       "      <td>19027462392</td>\n",
       "      <td>48</td>\n",
       "      <td>00</td>\n",
       "      <td>Texas</td>\n",
       "      <td>48</td>\n",
       "      <td>01779801</td>\n",
       "      <td>TX</td>\n",
       "      <td>POLYGON ((-106.623445 31.914034, -106.630114 3...</td>\n",
       "    </tr>\n",
       "    <tr>\n",
       "      <th>1</th>\n",
       "      <td>0400000US06</td>\n",
       "      <td>403488955894</td>\n",
       "      <td>20477992907</td>\n",
       "      <td>06</td>\n",
       "      <td>00</td>\n",
       "      <td>California</td>\n",
       "      <td>06</td>\n",
       "      <td>01779778</td>\n",
       "      <td>CA</td>\n",
       "      <td>(POLYGON ((-118.593969 33.467198, -118.484785 ...</td>\n",
       "    </tr>\n",
       "    <tr>\n",
       "      <th>2</th>\n",
       "      <td>0400000US21</td>\n",
       "      <td>102266253024</td>\n",
       "      <td>2389483091</td>\n",
       "      <td>21</td>\n",
       "      <td>00</td>\n",
       "      <td>Kentucky</td>\n",
       "      <td>21</td>\n",
       "      <td>01779786</td>\n",
       "      <td>KY</td>\n",
       "      <td>POLYGON ((-89.544434 36.57451, -89.47934599999...</td>\n",
       "    </tr>\n",
       "    <tr>\n",
       "      <th>3</th>\n",
       "      <td>0400000US13</td>\n",
       "      <td>149169759045</td>\n",
       "      <td>4740824950</td>\n",
       "      <td>13</td>\n",
       "      <td>00</td>\n",
       "      <td>Georgia</td>\n",
       "      <td>13</td>\n",
       "      <td>01705317</td>\n",
       "      <td>GA</td>\n",
       "      <td>POLYGON ((-85.605165 34.984678, -85.4743388431...</td>\n",
       "    </tr>\n",
       "    <tr>\n",
       "      <th>4</th>\n",
       "      <td>0400000US55</td>\n",
       "      <td>140269484183</td>\n",
       "      <td>29365442607</td>\n",
       "      <td>55</td>\n",
       "      <td>00</td>\n",
       "      <td>Wisconsin</td>\n",
       "      <td>55</td>\n",
       "      <td>01779806</td>\n",
       "      <td>WI</td>\n",
       "      <td>(POLYGON ((-86.934276 45.421149, -86.835748999...</td>\n",
       "    </tr>\n",
       "  </tbody>\n",
       "</table>\n",
       "</div>"
      ],
      "text/plain": [
       "      AFFGEOID         ALAND       AWATER GEOID LSAD        NAME STATEFP  \\\n",
       "0  0400000US48  676634395761  19027462392    48   00       Texas      48   \n",
       "1  0400000US06  403488955894  20477992907    06   00  California      06   \n",
       "2  0400000US21  102266253024   2389483091    21   00    Kentucky      21   \n",
       "3  0400000US13  149169759045   4740824950    13   00     Georgia      13   \n",
       "4  0400000US55  140269484183  29365442607    55   00   Wisconsin      55   \n",
       "\n",
       "    STATENS STUSPS                                           geometry  \n",
       "0  01779801     TX  POLYGON ((-106.623445 31.914034, -106.630114 3...  \n",
       "1  01779778     CA  (POLYGON ((-118.593969 33.467198, -118.484785 ...  \n",
       "2  01779786     KY  POLYGON ((-89.544434 36.57451, -89.47934599999...  \n",
       "3  01705317     GA  POLYGON ((-85.605165 34.984678, -85.4743388431...  \n",
       "4  01779806     WI  (POLYGON ((-86.934276 45.421149, -86.835748999...  "
      ]
     },
     "execution_count": 22,
     "metadata": {},
     "output_type": "execute_result"
    }
   ],
   "source": [
    "state_df = gpd.read_file(\"cb_2015_us_state_20m.shp\")\n",
    "state_df.head()"
   ]
  },
  {
   "cell_type": "code",
   "execution_count": 25,
   "metadata": {
    "collapsed": false
   },
   "outputs": [
    {
     "data": {
      "text/html": [
       "<div>\n",
       "<table border=\"1\" class=\"dataframe\">\n",
       "  <thead>\n",
       "    <tr style=\"text-align: right;\">\n",
       "      <th></th>\n",
       "      <th>Longitude</th>\n",
       "      <th>Latitude</th>\n",
       "      <th>geometry</th>\n",
       "      <th>index_right</th>\n",
       "      <th>AFFGEOID</th>\n",
       "      <th>ALAND</th>\n",
       "      <th>AWATER</th>\n",
       "      <th>GEOID</th>\n",
       "      <th>LSAD</th>\n",
       "      <th>NAME</th>\n",
       "      <th>STATEFP</th>\n",
       "      <th>STATENS</th>\n",
       "      <th>STUSPS</th>\n",
       "    </tr>\n",
       "  </thead>\n",
       "  <tbody>\n",
       "    <tr>\n",
       "      <th>0</th>\n",
       "      <td>-86.300942</td>\n",
       "      <td>32.377447</td>\n",
       "      <td>POINT (-86.30094200000001 32.377447)</td>\n",
       "      <td>37</td>\n",
       "      <td>0400000US01</td>\n",
       "      <td>131173369432</td>\n",
       "      <td>4593984687</td>\n",
       "      <td>01</td>\n",
       "      <td>00</td>\n",
       "      <td>Alabama</td>\n",
       "      <td>01</td>\n",
       "      <td>01779775</td>\n",
       "      <td>AL</td>\n",
       "    </tr>\n",
       "    <tr>\n",
       "      <th>1</th>\n",
       "      <td>-134.410467</td>\n",
       "      <td>58.302197</td>\n",
       "      <td>POINT (-134.410467 58.302197)</td>\n",
       "      <td>13</td>\n",
       "      <td>0400000US02</td>\n",
       "      <td>1477946338495</td>\n",
       "      <td>245391672906</td>\n",
       "      <td>02</td>\n",
       "      <td>00</td>\n",
       "      <td>Alaska</td>\n",
       "      <td>02</td>\n",
       "      <td>01785533</td>\n",
       "      <td>AK</td>\n",
       "    </tr>\n",
       "    <tr>\n",
       "      <th>2</th>\n",
       "      <td>-112.097094</td>\n",
       "      <td>33.448097</td>\n",
       "      <td>POINT (-112.097094 33.448097)</td>\n",
       "      <td>42</td>\n",
       "      <td>0400000US04</td>\n",
       "      <td>294204474990</td>\n",
       "      <td>1027559124</td>\n",
       "      <td>04</td>\n",
       "      <td>00</td>\n",
       "      <td>Arizona</td>\n",
       "      <td>04</td>\n",
       "      <td>01779777</td>\n",
       "      <td>AZ</td>\n",
       "    </tr>\n",
       "    <tr>\n",
       "      <th>3</th>\n",
       "      <td>-92.288761</td>\n",
       "      <td>34.746758</td>\n",
       "      <td>POINT (-92.28876099999999 34.746758)</td>\n",
       "      <td>23</td>\n",
       "      <td>0400000US05</td>\n",
       "      <td>134769279101</td>\n",
       "      <td>2962525273</td>\n",
       "      <td>05</td>\n",
       "      <td>00</td>\n",
       "      <td>Arkansas</td>\n",
       "      <td>05</td>\n",
       "      <td>00068085</td>\n",
       "      <td>AR</td>\n",
       "    </tr>\n",
       "    <tr>\n",
       "      <th>4</th>\n",
       "      <td>-121.493411</td>\n",
       "      <td>38.576572</td>\n",
       "      <td>POINT (-121.493411 38.576572)</td>\n",
       "      <td>1</td>\n",
       "      <td>0400000US06</td>\n",
       "      <td>403488955894</td>\n",
       "      <td>20477992907</td>\n",
       "      <td>06</td>\n",
       "      <td>00</td>\n",
       "      <td>California</td>\n",
       "      <td>06</td>\n",
       "      <td>01779778</td>\n",
       "      <td>CA</td>\n",
       "    </tr>\n",
       "  </tbody>\n",
       "</table>\n",
       "</div>"
      ],
      "text/plain": [
       "    Longitude   Latitude                              geometry  index_right  \\\n",
       "0  -86.300942  32.377447  POINT (-86.30094200000001 32.377447)           37   \n",
       "1 -134.410467  58.302197         POINT (-134.410467 58.302197)           13   \n",
       "2 -112.097094  33.448097         POINT (-112.097094 33.448097)           42   \n",
       "3  -92.288761  34.746758  POINT (-92.28876099999999 34.746758)           23   \n",
       "4 -121.493411  38.576572         POINT (-121.493411 38.576572)            1   \n",
       "\n",
       "      AFFGEOID          ALAND        AWATER GEOID LSAD        NAME STATEFP  \\\n",
       "0  0400000US01   131173369432    4593984687    01   00     Alabama      01   \n",
       "1  0400000US02  1477946338495  245391672906    02   00      Alaska      02   \n",
       "2  0400000US04   294204474990    1027559124    04   00     Arizona      04   \n",
       "3  0400000US05   134769279101    2962525273    05   00    Arkansas      05   \n",
       "4  0400000US06   403488955894   20477992907    06   00  California      06   \n",
       "\n",
       "    STATENS STUSPS  \n",
       "0  01779775     AL  \n",
       "1  01785533     AK  \n",
       "2  01779777     AZ  \n",
       "3  00068085     AR  \n",
       "4  01779778     CA  "
      ]
     },
     "execution_count": 25,
     "metadata": {},
     "output_type": "execute_result"
    }
   ],
   "source": [
    "cities_df = pd.read_csv(\"Locations.csv\", usecols = [\"Longitude\", \"Latitude\"])\n",
    "cities_df.dropna(inplace = True)\n",
    "\n",
    "geometry = [Point(xy) for xy in zip(cities_df.Longitude, cities_df.Latitude)]\n",
    "cities_coords = gpd.GeoDataFrame(cities_df, crs = state_df.crs, geometry=geometry)\n",
    "\n",
    "located_cities = gpd.sjoin(cities_coords, state_df, how = 'left', op = 'within')\n",
    "located_cities.head()"
   ]
  },
  {
   "cell_type": "code",
   "execution_count": 26,
   "metadata": {
    "collapsed": false
   },
   "outputs": [
    {
     "data": {
      "text/plain": [
       "<matplotlib.axes._subplots.AxesSubplot at 0x11c4dceb8>"
      ]
     },
     "execution_count": 26,
     "metadata": {},
     "output_type": "execute_result"
    },
    {
     "data": {
      "image/png": "[encoded data removed]",
      "text/plain": [
       "<matplotlib.figure.Figure at 0x11c5382b0>"
      ]
     },
     "metadata": {},
     "output_type": "display_data"
    }
   ],
   "source": [
    "located_cities.plot(marker='*', color='green', markersize=5)"
   ]
  },
  {
   "cell_type": "code",
   "execution_count": null,
   "metadata": {
    "collapsed": true
   },
   "outputs": [],
   "source": []
  }
 ],
 "metadata": {
  "kernelspec": {
   "display_name": "Python [Root]",
   "language": "python",
   "name": "Python [Root]"
  },
  "language_info": {
   "codemirror_mode": {
    "name": "ipython",
    "version": 3
   },
   "file_extension": ".py",
   "mimetype": "text/x-python",
   "name": "python",
   "nbconvert_exporter": "python",
   "pygments_lexer": "ipython3",
   "version": "3.5.2"
  }
 },
 "nbformat": 4,
 "nbformat_minor": 0
}
